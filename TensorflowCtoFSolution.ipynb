{
  "nbformat": 4,
  "nbformat_minor": 0,
  "metadata": {
    "colab": {
      "provenance": [],
      "include_colab_link": true
    },
    "kernelspec": {
      "name": "python3",
      "display_name": "Python 3"
    },
    "accelerator": "GPU"
  },
  "cells": [
    {
      "cell_type": "markdown",
      "metadata": {
        "id": "view-in-github",
        "colab_type": "text"
      },
      "source": [
        "<a href=\"https://colab.research.google.com/github/raegar/MachineLearningSolutions/blob/main/TensorflowCtoFSolution.ipynb\" target=\"_parent\"><img src=\"https://colab.research.google.com/assets/colab-badge.svg\" alt=\"Open In Colab\"/></a>"
      ]
    },
    {
      "metadata": {
        "id": "UgVzy98FVAvn"
      },
      "cell_type": "markdown",
      "source": [
        "Import dependencies and only log error messages"
      ]
    },
    {
      "metadata": {
        "id": "o0wUf8u_UTmJ"
      },
      "cell_type": "code",
      "source": [
        "import tensorflow as tf\n",
        "tf.logging.set_verbosity(tf.logging.ERROR)\n",
        "import numpy as np\n"
      ],
      "execution_count": null,
      "outputs": []
    },
    {
      "metadata": {
        "id": "dvR040OHUwoD"
      },
      "cell_type": "markdown",
      "source": [
        "Set up training data\n",
        "\n",
        "Input (celcius_q = Features) <br/>\n",
        "Outputs (fahrenheit_a = Labels) <br/>\n",
        "Pair of input and output = Training Example"
      ]
    },
    {
      "metadata": {
        "id": "B1drj9QaVI25",
        "outputId": "48e764b4-8787-44b7-a058-30e28f034a91",
        "colab": {
          "base_uri": "https://localhost:8080/",
          "height": 143
        }
      },
      "cell_type": "code",
      "source": [
        "celcius_q = np.array([-40, -10,  0,  8, 15, 22,  38],  dtype=float)\n",
        "fahrenheit_a = np.array([-40,  14, 32, 46, 59, 72, 100],  dtype=float)\n",
        "for i,c in enumerate(celcius_q):\n",
        "  print(\"{} degrees Celcius = {} degrees Fahrenheit\".format(c, fahrenheit_a[i]))"
      ],
      "execution_count": null,
      "outputs": [
        {
          "output_type": "stream",
          "text": [
            "-40.0 degrees Celcius = -40.0 degrees Fahrenheit\n",
            "-10.0 degrees Celcius = 14.0 degrees Fahrenheit\n",
            "0.0 degrees Celcius = 32.0 degrees Fahrenheit\n",
            "8.0 degrees Celcius = 46.0 degrees Fahrenheit\n",
            "15.0 degrees Celcius = 59.0 degrees Fahrenheit\n",
            "22.0 degrees Celcius = 72.0 degrees Fahrenheit\n",
            "38.0 degrees Celcius = 100.0 degrees Fahrenheit\n"
          ],
          "name": "stdout"
        }
      ]
    },
    {
      "metadata": {
        "id": "c70iPGlJXzca"
      },
      "cell_type": "markdown",
      "source": [
        "Create model\n",
        "\n",
        "keras.layers.Dense creates a new single Dense layer that consists of 1 neuron (unit) and has 1 input array (shape) to work with.\n",
        "\n",
        "Then create the model with the single layer"
      ]
    },
    {
      "metadata": {
        "id": "8VKb66snXQfx"
      },
      "cell_type": "code",
      "source": [
        "layer0 = tf.keras.layers.Dense(units=1, input_shape=[1])\n",
        "model = tf.keras.Sequential([layer0])"
      ],
      "execution_count": null,
      "outputs": []
    },
    {
      "metadata": {
        "id": "fwTeiGREY_oM"
      },
      "cell_type": "markdown",
      "source": [
        "Compile the model with a Loss and an Optimizer\n",
        "\n",
        "\n",
        "loss accounts for variability in the outcomes and optimiser is how agressively the algorithm will try to find the correct outcome. Any value from 0.001 to 0.1 would be appropriate\n"
      ]
    },
    {
      "metadata": {
        "id": "JSYHpeqUZNO4"
      },
      "cell_type": "code",
      "source": [
        "model.compile(loss='mean_squared_error', optimizer=tf.keras.optimizers.Adam(0.1))"
      ],
      "execution_count": null,
      "outputs": []
    },
    {
      "metadata": {
        "id": "T1cqvxLNejrD"
      },
      "cell_type": "markdown",
      "source": [
        "Train the model by calling the fit method\n",
        "\n",
        "One epoch is a full iteration of the samples provided (7 * 500 = 3500 training examples)"
      ]
    },
    {
      "metadata": {
        "id": "7CzgvyW0eofN",
        "outputId": "6604d40b-5fd2-4e51-d407-a1087a3e9122",
        "colab": {
          "base_uri": "https://localhost:8080/",
          "height": 35
        }
      },
      "cell_type": "code",
      "source": [
        "training = model.fit(celcius_q, fahrenheit_a, epochs=1000, verbose=False)\n",
        "print (\"finished training the model\")"
      ],
      "execution_count": null,
      "outputs": [
        {
          "output_type": "stream",
          "text": [
            "finished training the model\n"
          ],
          "name": "stdout"
        }
      ]
    },
    {
      "metadata": {
        "id": "FRMMjFaRfu83"
      },
      "cell_type": "markdown",
      "source": [
        "Display training statistics. High loss is a poor result."
      ]
    },
    {
      "metadata": {
        "id": "CNmoNP40fxa8",
        "outputId": "cd19df6f-fade-4538-8433-262a576c5755",
        "colab": {
          "base_uri": "https://localhost:8080/",
          "height": 379
        }
      },
      "cell_type": "code",
      "source": [
        "import matplotlib.pyplot as plt\n",
        "plt.xlabel('Epoch number')\n",
        "plt.ylabel(\"Loss magnitude\")\n",
        "plt.plot(training.history['loss'])"
      ],
      "execution_count": null,
      "outputs": [
        {
          "output_type": "execute_result",
          "data": {
            "text/plain": [
              "[<matplotlib.lines.Line2D at 0x7f92c697c8d0>]"
            ]
          },
          "metadata": {
            "tags": []
          },
          "execution_count": 7
        },
        {
          "output_type": "display_data",
          "data": {
            "image/png": "[encoded data removed]",
            "text/plain": [
              "<Figure size 576x396 with 1 Axes>"
            ]
          },
          "metadata": {
            "tags": []
          }
        }
      ]
    },
    {
      "metadata": {
        "id": "3p9MhcEZhbDm"
      },
      "cell_type": "markdown",
      "source": [
        "Use the model to predict values"
      ]
    },
    {
      "metadata": {
        "id": "Sl_U3cKJhd3H",
        "outputId": "2f80821d-f3d8-4a07-b770-fdf174e043af",
        "colab": {
          "base_uri": "https://localhost:8080/",
          "height": 34
        }
      },
      "cell_type": "code",
      "source": [
        "print(\"100 C = {} F \".format(model.predict([100.00])))"
      ],
      "execution_count": null,
      "outputs": [
        {
          "output_type": "stream",
          "text": [
            "100 C = [[211.74405]] F \n"
          ],
          "name": "stdout"
        }
      ]
    },
    {
      "metadata": {
        "id": "tpZeA4W4ip62",
        "outputId": "dd2fb480-727e-46db-dab7-450400da7ee7",
        "colab": {
          "base_uri": "https://localhost:8080/",
          "height": 34
        }
      },
      "cell_type": "code",
      "source": [
        "print(\"9 C = {} F \".format(model.predict([9.00])))"
      ],
      "execution_count": null,
      "outputs": [
        {
          "output_type": "stream",
          "text": [
            "9 C = [[48.113777]] F \n"
          ],
          "name": "stdout"
        }
      ]
    },
    {
      "metadata": {
        "id": "l5zhMAKojKZp"
      },
      "cell_type": "markdown",
      "source": [
        "Looking at the layer weights [weight], [bias]"
      ]
    },
    {
      "metadata": {
        "id": "NB2i0Cj1jJga",
        "outputId": "04a5f221-4271-4047-b91a-48e0ae8c6baa",
        "colab": {
          "base_uri": "https://localhost:8080/",
          "height": 34
        }
      },
      "cell_type": "code",
      "source": [
        "print(\"These are the layer variables: {}\".format(layer0.get_weights()))"
      ],
      "execution_count": null,
      "outputs": [
        {
          "output_type": "stream",
          "text": [
            "These are the layer variables: [array([[1.7981348]], dtype=float32), array([31.930567], dtype=float32)]\n"
          ],
          "name": "stdout"
        }
      ]
    },
    {
      "metadata": {
        "id": "rLxLu9zcs2v8"
      },
      "cell_type": "markdown",
      "source": [
        "**By now you should know what the following terms are:**\n",
        "\n",
        "Feature: The input(s) to our model\n",
        "\n",
        "Examples: An input/output pair used for training\n",
        "\n",
        "Labels: The output of the model\n",
        "\n",
        "Layer: A collection of nodes connected together within a neural network.\n",
        "\n",
        "Model: The representation of your neural network\n",
        "\n",
        "Dense and Fully Connected (FC): Each node in one layer is connected to each node in the previous layer.\n",
        "\n",
        "Weights and biases: The internal variables of model\n",
        "\n",
        "Loss: The discrepancy between the desired output and the actual output\n",
        "\n",
        "MSE: Mean squared error, a type of loss function that counts a small number of large discrepancies as worse than\n",
        "a large number of small ones.\n",
        "\n",
        "Gradient Descent: An algorithm the internal variables a bit at a time to gradually reduce the loss function.\n",
        "\n",
        "Optimizer: A specific implementation of the gradient descent algorithm. (There are many algorithms for this. In this\n",
        "course we will only use the “Adam” Optimizer, which stands for ADAptive with Momentum. It is considered the\n",
        "best-practice optimizer.)\n",
        "\n",
        "Learning rate: The “step size” for loss improvement during gradient descent.\n",
        "\n",
        "Batch: The set of examples used during training of the neural network\n",
        "\n",
        "Epoch: A full pass over the entire training dataset\n",
        "\n",
        "Forward pass: The computation of output values from input\n",
        "\n",
        "Backward pass (backpropagation): The calculation of internal variable adjustments according to the optimizer algorithm, starting from the output layer and working back through each layer to the input."
      ]
    }
  ]
}